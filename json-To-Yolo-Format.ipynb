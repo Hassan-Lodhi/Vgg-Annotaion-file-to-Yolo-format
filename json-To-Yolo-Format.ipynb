{
 "cells": [
  {
   "cell_type": "code",
   "execution_count": 38,
   "id": "bca17305",
   "metadata": {},
   "outputs": [],
   "source": [
    "import cv2\n",
    "import json \n",
    "import os\n",
    "import pandas as pd\n",
    "import labelImg"
   ]
  },
  {
   "cell_type": "code",
   "execution_count": 39,
   "id": "91ebfc37",
   "metadata": {},
   "outputs": [
    {
     "name": "stdout",
     "output_type": "stream",
     "text": [
      "dict_keys(['_via_settings', '_via_img_metadata', '_via_attributes'])\n"
     ]
    }
   ],
   "source": [
    "with open('cat_dog_annotations.json') as f:\n",
    "    data = json.load(f)\n",
    "\n",
    "print(data.keys())"
   ]
  },
  {
   "cell_type": "code",
   "execution_count": 40,
   "id": "8615a1ae",
   "metadata": {},
   "outputs": [
    {
     "name": "stdout",
     "output_type": "stream",
     "text": [
      "dict_keys(['region', 'file'])\n"
     ]
    }
   ],
   "source": [
    "with open('cat_dog_annotations.json') as f:\n",
    "    data = json.load(f)\n",
    "\n",
    "_via_attributes = data['_via_attributes']\n",
    "print(_via_attributes.keys())"
   ]
  },
  {
   "cell_type": "code",
   "execution_count": 41,
   "id": "729cfb88",
   "metadata": {},
   "outputs": [
    {
     "data": {
      "text/html": [
       "<div>\n",
       "<style scoped>\n",
       "    .dataframe tbody tr th:only-of-type {\n",
       "        vertical-align: middle;\n",
       "    }\n",
       "\n",
       "    .dataframe tbody tr th {\n",
       "        vertical-align: top;\n",
       "    }\n",
       "\n",
       "    .dataframe thead th {\n",
       "        text-align: right;\n",
       "    }\n",
       "</style>\n",
       "<table border=\"1\" class=\"dataframe\">\n",
       "  <thead>\n",
       "    <tr style=\"text-align: right;\">\n",
       "      <th></th>\n",
       "      <th>_via_settings</th>\n",
       "      <th>_via_img_metadata</th>\n",
       "      <th>_via_attributes</th>\n",
       "    </tr>\n",
       "  </thead>\n",
       "  <tbody>\n",
       "    <tr>\n",
       "      <th>ui</th>\n",
       "      <td>{'annotation_editor_height': 25, 'annotation_e...</td>\n",
       "      <td>NaN</td>\n",
       "      <td>NaN</td>\n",
       "    </tr>\n",
       "    <tr>\n",
       "      <th>core</th>\n",
       "      <td>{'buffer_size': 18, 'filepath': {}, 'default_f...</td>\n",
       "      <td>NaN</td>\n",
       "      <td>NaN</td>\n",
       "    </tr>\n",
       "    <tr>\n",
       "      <th>project</th>\n",
       "      <td>{'name': 'via_project_18Oct2022_11h49m'}</td>\n",
       "      <td>NaN</td>\n",
       "      <td>NaN</td>\n",
       "    </tr>\n",
       "    <tr>\n",
       "      <th>1.jpeg45602</th>\n",
       "      <td>NaN</td>\n",
       "      <td>{'filename': '1.jpeg', 'size': 45602, 'regions...</td>\n",
       "      <td>NaN</td>\n",
       "    </tr>\n",
       "    <tr>\n",
       "      <th>2.jpeg4669</th>\n",
       "      <td>NaN</td>\n",
       "      <td>{'filename': '2.jpeg', 'size': 4669, 'regions'...</td>\n",
       "      <td>NaN</td>\n",
       "    </tr>\n",
       "  </tbody>\n",
       "</table>\n",
       "</div>"
      ],
      "text/plain": [
       "                                                 _via_settings  \\\n",
       "ui           {'annotation_editor_height': 25, 'annotation_e...   \n",
       "core         {'buffer_size': 18, 'filepath': {}, 'default_f...   \n",
       "project               {'name': 'via_project_18Oct2022_11h49m'}   \n",
       "1.jpeg45602                                                NaN   \n",
       "2.jpeg4669                                                 NaN   \n",
       "\n",
       "                                             _via_img_metadata _via_attributes  \n",
       "ui                                                         NaN             NaN  \n",
       "core                                                       NaN             NaN  \n",
       "project                                                    NaN             NaN  \n",
       "1.jpeg45602  {'filename': '1.jpeg', 'size': 45602, 'regions...             NaN  \n",
       "2.jpeg4669   {'filename': '2.jpeg', 'size': 4669, 'regions'...             NaN  "
      ]
     },
     "execution_count": 41,
     "metadata": {},
     "output_type": "execute_result"
    }
   ],
   "source": [
    "annotations = pd.DataFrame.from_dict(data)\n",
    "annotations.head()"
   ]
  },
  {
   "cell_type": "code",
   "execution_count": 42,
   "id": "ac4add71",
   "metadata": {},
   "outputs": [],
   "source": [
    "# Define the class names in your dataset\n",
    "class_names = ['cat', 'dog']\n",
    "\n",
    "\n",
    "if not os.path.exists('Yolo_Format'):\n",
    "    os.makedirs('Yolo_Format')\n",
    "\n",
    "\n",
    "for img_key, img_values in data['_via_img_metadata'].items():\n",
    "\n",
    "    img_filename = img_values['filename']\n",
    "    image = cv2.imread(img_filename)\n",
    "    \n",
    "    img_height, img_width = image.shape[:2]\n",
    "    \n",
    "    with open(os.path.join('Yolo_Format', os.path.splitext(img_filename)[0] + '.txt'), 'w') as f:\n",
    "      \n",
    "        for obj in img_values['regions']:\n",
    "            \n",
    "            class_label = list(obj['region_attributes']['class'])[0]\n",
    "            bbox = obj['shape_attributes']\n",
    "\n",
    "           \n",
    "            x_center = (bbox['x'] + bbox['width'] / 2) / img_width\n",
    "            y_center = (bbox['y'] + bbox['height'] / 2) / img_height\n",
    "            width = bbox['width'] / img_width\n",
    "            height = bbox['height'] / img_height\n",
    "\n",
    "\n",
    "            class_index = class_names.index(class_label)\n",
    "            f.write(f\"{class_index} {x_center} {y_center} {width} {height}\\n\")\n",
    "            "
   ]
  },
  {
   "cell_type": "code",
   "execution_count": 43,
   "id": "ae3a58c8",
   "metadata": {},
   "outputs": [],
   "source": [
    "with open('cat_dog_yolo.txt', 'w') as f:\n",
    "    f.write('\\n'.join(data))"
   ]
  },
  {
   "cell_type": "code",
   "execution_count": null,
   "id": "c0d63f94",
   "metadata": {},
   "outputs": [],
   "source": []
  }
 ],
 "metadata": {
  "kernelspec": {
   "display_name": "Python 3 (ipykernel)",
   "language": "python",
   "name": "python3"
  },
  "language_info": {
   "codemirror_mode": {
    "name": "ipython",
    "version": 3
   },
   "file_extension": ".py",
   "mimetype": "text/x-python",
   "name": "python",
   "nbconvert_exporter": "python",
   "pygments_lexer": "ipython3",
   "version": "3.9.16"
  }
 },
 "nbformat": 4,
 "nbformat_minor": 5
}
